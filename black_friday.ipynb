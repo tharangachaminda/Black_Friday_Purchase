{
 "cells": [
  {
   "cell_type": "markdown",
   "id": "21dd8745-c4c6-4c99-9245-87a0a9975d8d",
   "metadata": {},
   "source": [
    "# Black Friday Purchase Forcasting\n",
    "### Dataset\n",
    "https://www.kaggle.com/datasets/sdolezel/black-friday"
   ]
  },
  {
   "cell_type": "markdown",
   "id": "1f1bbc36-cf86-4ae1-9c0d-73126f0dc68e",
   "metadata": {},
   "source": [
    "<div>\n",
    "    <h2>Problem Statement</h2>\n",
    "A retail company \"ABC Private Limited\" wants to understand the customer purchase behaviour (specifically, purchase amount) against various products of different categories. They have shared purchase summary of various customers for selected high volume products from last month. The data set also contains customer demographics <i>(age, gender, marital status, city_type, stay_in_current_city)</i>, product details <i>(product_id and product category)</i> and Total purchase_amount from last month.\n",
    "\n",
    "Now, they want to build a model to predict the purchase amount of customer against various products which will help them to create personalized offer for customers against different products.\n",
    "    </div>"
   ]
  },
  {
   "cell_type": "markdown",
   "id": "347d7b2f-cdc4-4f0d-8b25-305e63fca988",
   "metadata": {},
   "source": [
    "<div class=\"alert alert-info\">\n",
    "    <h2>Plan for the project:</h2>\n",
    "    <ol>\n",
    "        <li>Load the dataset</li>\n",
    "        <li>Exploratory Data Analysis</li>\n",
    "        <li>Feature Engineering\n",
    "            <ol>\n",
    "                <li>Feature generating</li>\n",
    "                <li>Feature selection</li>\n",
    "                <li>Feature scaling</li>\n",
    "            </ol>\n",
    "        </li>\n",
    "        <li>Model selection</li>\n",
    "        <li>Hyper-parameter tuning (GridSearchCV)</li>\n",
    "        <li>Measure Model performance (cross validation)</li>\n",
    "    </ol>\n",
    "</div>"
   ]
  },
  {
   "cell_type": "code",
   "execution_count": 41,
   "id": "4f7b7df8-2bfb-45f7-954b-5d7aedf984f2",
   "metadata": {},
   "outputs": [],
   "source": [
    "import pandas as pd\n",
    "import numpy as np\n",
    "import seaborn as sns\n",
    "import matplotlib.pyplot as plt\n",
    "from sklearn.preprocessing import StandardScaler\n",
    "\n",
    "%matplotlib inline"
   ]
  },
  {
   "cell_type": "code",
   "execution_count": 2,
   "id": "aea4555d-170f-4ecf-99a8-811137282095",
   "metadata": {},
   "outputs": [
    {
     "data": {
      "text/html": [
       "<div>\n",
       "<style scoped>\n",
       "    .dataframe tbody tr th:only-of-type {\n",
       "        vertical-align: middle;\n",
       "    }\n",
       "\n",
       "    .dataframe tbody tr th {\n",
       "        vertical-align: top;\n",
       "    }\n",
       "\n",
       "    .dataframe thead th {\n",
       "        text-align: right;\n",
       "    }\n",
       "</style>\n",
       "<table border=\"1\" class=\"dataframe\">\n",
       "  <thead>\n",
       "    <tr style=\"text-align: right;\">\n",
       "      <th></th>\n",
       "      <th>User_ID</th>\n",
       "      <th>Product_ID</th>\n",
       "      <th>Gender</th>\n",
       "      <th>Age</th>\n",
       "      <th>Occupation</th>\n",
       "      <th>City_Category</th>\n",
       "      <th>Stay_In_Current_City_Years</th>\n",
       "      <th>Marital_Status</th>\n",
       "      <th>Product_Category_1</th>\n",
       "      <th>Product_Category_2</th>\n",
       "      <th>Product_Category_3</th>\n",
       "      <th>Purchase</th>\n",
       "    </tr>\n",
       "  </thead>\n",
       "  <tbody>\n",
       "    <tr>\n",
       "      <th>0</th>\n",
       "      <td>1000001</td>\n",
       "      <td>P00069042</td>\n",
       "      <td>F</td>\n",
       "      <td>0-17</td>\n",
       "      <td>10</td>\n",
       "      <td>A</td>\n",
       "      <td>2</td>\n",
       "      <td>0</td>\n",
       "      <td>3</td>\n",
       "      <td>NaN</td>\n",
       "      <td>NaN</td>\n",
       "      <td>8370</td>\n",
       "    </tr>\n",
       "    <tr>\n",
       "      <th>1</th>\n",
       "      <td>1000001</td>\n",
       "      <td>P00248942</td>\n",
       "      <td>F</td>\n",
       "      <td>0-17</td>\n",
       "      <td>10</td>\n",
       "      <td>A</td>\n",
       "      <td>2</td>\n",
       "      <td>0</td>\n",
       "      <td>1</td>\n",
       "      <td>6.0</td>\n",
       "      <td>14.0</td>\n",
       "      <td>15200</td>\n",
       "    </tr>\n",
       "    <tr>\n",
       "      <th>2</th>\n",
       "      <td>1000001</td>\n",
       "      <td>P00087842</td>\n",
       "      <td>F</td>\n",
       "      <td>0-17</td>\n",
       "      <td>10</td>\n",
       "      <td>A</td>\n",
       "      <td>2</td>\n",
       "      <td>0</td>\n",
       "      <td>12</td>\n",
       "      <td>NaN</td>\n",
       "      <td>NaN</td>\n",
       "      <td>1422</td>\n",
       "    </tr>\n",
       "    <tr>\n",
       "      <th>3</th>\n",
       "      <td>1000001</td>\n",
       "      <td>P00085442</td>\n",
       "      <td>F</td>\n",
       "      <td>0-17</td>\n",
       "      <td>10</td>\n",
       "      <td>A</td>\n",
       "      <td>2</td>\n",
       "      <td>0</td>\n",
       "      <td>12</td>\n",
       "      <td>14.0</td>\n",
       "      <td>NaN</td>\n",
       "      <td>1057</td>\n",
       "    </tr>\n",
       "    <tr>\n",
       "      <th>4</th>\n",
       "      <td>1000002</td>\n",
       "      <td>P00285442</td>\n",
       "      <td>M</td>\n",
       "      <td>55+</td>\n",
       "      <td>16</td>\n",
       "      <td>C</td>\n",
       "      <td>4+</td>\n",
       "      <td>0</td>\n",
       "      <td>8</td>\n",
       "      <td>NaN</td>\n",
       "      <td>NaN</td>\n",
       "      <td>7969</td>\n",
       "    </tr>\n",
       "  </tbody>\n",
       "</table>\n",
       "</div>"
      ],
      "text/plain": [
       "   User_ID Product_ID Gender   Age  Occupation City_Category  \\\n",
       "0  1000001  P00069042      F  0-17          10             A   \n",
       "1  1000001  P00248942      F  0-17          10             A   \n",
       "2  1000001  P00087842      F  0-17          10             A   \n",
       "3  1000001  P00085442      F  0-17          10             A   \n",
       "4  1000002  P00285442      M   55+          16             C   \n",
       "\n",
       "  Stay_In_Current_City_Years  Marital_Status  Product_Category_1  \\\n",
       "0                          2               0                   3   \n",
       "1                          2               0                   1   \n",
       "2                          2               0                  12   \n",
       "3                          2               0                  12   \n",
       "4                         4+               0                   8   \n",
       "\n",
       "   Product_Category_2  Product_Category_3  Purchase  \n",
       "0                 NaN                 NaN      8370  \n",
       "1                 6.0                14.0     15200  \n",
       "2                 NaN                 NaN      1422  \n",
       "3                14.0                 NaN      1057  \n",
       "4                 NaN                 NaN      7969  "
      ]
     },
     "execution_count": 2,
     "metadata": {},
     "output_type": "execute_result"
    }
   ],
   "source": [
    "df = pd.read_csv('black_friday.csv')\n",
    "df.head()"
   ]
  },
  {
   "cell_type": "code",
   "execution_count": 3,
   "id": "7c7abbd4-6c04-4364-8be0-66cdf12e8da5",
   "metadata": {},
   "outputs": [
    {
     "name": "stdout",
     "output_type": "stream",
     "text": [
      "<class 'pandas.core.frame.DataFrame'>\n",
      "RangeIndex: 550068 entries, 0 to 550067\n",
      "Data columns (total 12 columns):\n",
      " #   Column                      Non-Null Count   Dtype  \n",
      "---  ------                      --------------   -----  \n",
      " 0   User_ID                     550068 non-null  int64  \n",
      " 1   Product_ID                  550068 non-null  object \n",
      " 2   Gender                      550068 non-null  object \n",
      " 3   Age                         550068 non-null  object \n",
      " 4   Occupation                  550068 non-null  int64  \n",
      " 5   City_Category               550068 non-null  object \n",
      " 6   Stay_In_Current_City_Years  550068 non-null  object \n",
      " 7   Marital_Status              550068 non-null  int64  \n",
      " 8   Product_Category_1          550068 non-null  int64  \n",
      " 9   Product_Category_2          376430 non-null  float64\n",
      " 10  Product_Category_3          166821 non-null  float64\n",
      " 11  Purchase                    550068 non-null  int64  \n",
      "dtypes: float64(2), int64(5), object(5)\n",
      "memory usage: 50.4+ MB\n"
     ]
    }
   ],
   "source": [
    "df.info()"
   ]
  },
  {
   "cell_type": "markdown",
   "id": "4008294b-3e81-45ee-81ab-1edf7dad5e28",
   "metadata": {},
   "source": [
    "<div class='alert alert-info'>\n",
    "    <h3>Observations:</h3>\n",
    "    <ol>\n",
    "        <li>Number of observations: <b>550068</b></li>\n",
    "        <li>Number of columns: <b>12</b></li>\n",
    "        <li>User_ID and Product_ID columns are not usable</li>\n",
    "    </ol>\n",
    "</div>"
   ]
  },
  {
   "cell_type": "markdown",
   "id": "b654bc06-f60e-4896-92f4-2a9aa45d51a6",
   "metadata": {},
   "source": [
    "#### Drop User_ID and Product_ID columns"
   ]
  },
  {
   "cell_type": "code",
   "execution_count": 4,
   "id": "c68b440b-914a-4ab5-b0af-9cf7d6db6e61",
   "metadata": {},
   "outputs": [
    {
     "data": {
      "text/html": [
       "<div>\n",
       "<style scoped>\n",
       "    .dataframe tbody tr th:only-of-type {\n",
       "        vertical-align: middle;\n",
       "    }\n",
       "\n",
       "    .dataframe tbody tr th {\n",
       "        vertical-align: top;\n",
       "    }\n",
       "\n",
       "    .dataframe thead th {\n",
       "        text-align: right;\n",
       "    }\n",
       "</style>\n",
       "<table border=\"1\" class=\"dataframe\">\n",
       "  <thead>\n",
       "    <tr style=\"text-align: right;\">\n",
       "      <th></th>\n",
       "      <th>Gender</th>\n",
       "      <th>Age</th>\n",
       "      <th>Occupation</th>\n",
       "      <th>City_Category</th>\n",
       "      <th>Stay_In_Current_City_Years</th>\n",
       "      <th>Marital_Status</th>\n",
       "      <th>Product_Category_1</th>\n",
       "      <th>Product_Category_2</th>\n",
       "      <th>Product_Category_3</th>\n",
       "      <th>Purchase</th>\n",
       "    </tr>\n",
       "  </thead>\n",
       "  <tbody>\n",
       "    <tr>\n",
       "      <th>0</th>\n",
       "      <td>F</td>\n",
       "      <td>0-17</td>\n",
       "      <td>10</td>\n",
       "      <td>A</td>\n",
       "      <td>2</td>\n",
       "      <td>0</td>\n",
       "      <td>3</td>\n",
       "      <td>NaN</td>\n",
       "      <td>NaN</td>\n",
       "      <td>8370</td>\n",
       "    </tr>\n",
       "    <tr>\n",
       "      <th>1</th>\n",
       "      <td>F</td>\n",
       "      <td>0-17</td>\n",
       "      <td>10</td>\n",
       "      <td>A</td>\n",
       "      <td>2</td>\n",
       "      <td>0</td>\n",
       "      <td>1</td>\n",
       "      <td>6.0</td>\n",
       "      <td>14.0</td>\n",
       "      <td>15200</td>\n",
       "    </tr>\n",
       "    <tr>\n",
       "      <th>2</th>\n",
       "      <td>F</td>\n",
       "      <td>0-17</td>\n",
       "      <td>10</td>\n",
       "      <td>A</td>\n",
       "      <td>2</td>\n",
       "      <td>0</td>\n",
       "      <td>12</td>\n",
       "      <td>NaN</td>\n",
       "      <td>NaN</td>\n",
       "      <td>1422</td>\n",
       "    </tr>\n",
       "    <tr>\n",
       "      <th>3</th>\n",
       "      <td>F</td>\n",
       "      <td>0-17</td>\n",
       "      <td>10</td>\n",
       "      <td>A</td>\n",
       "      <td>2</td>\n",
       "      <td>0</td>\n",
       "      <td>12</td>\n",
       "      <td>14.0</td>\n",
       "      <td>NaN</td>\n",
       "      <td>1057</td>\n",
       "    </tr>\n",
       "    <tr>\n",
       "      <th>4</th>\n",
       "      <td>M</td>\n",
       "      <td>55+</td>\n",
       "      <td>16</td>\n",
       "      <td>C</td>\n",
       "      <td>4+</td>\n",
       "      <td>0</td>\n",
       "      <td>8</td>\n",
       "      <td>NaN</td>\n",
       "      <td>NaN</td>\n",
       "      <td>7969</td>\n",
       "    </tr>\n",
       "  </tbody>\n",
       "</table>\n",
       "</div>"
      ],
      "text/plain": [
       "  Gender   Age  Occupation City_Category Stay_In_Current_City_Years  \\\n",
       "0      F  0-17          10             A                          2   \n",
       "1      F  0-17          10             A                          2   \n",
       "2      F  0-17          10             A                          2   \n",
       "3      F  0-17          10             A                          2   \n",
       "4      M   55+          16             C                         4+   \n",
       "\n",
       "   Marital_Status  Product_Category_1  Product_Category_2  Product_Category_3  \\\n",
       "0               0                   3                 NaN                 NaN   \n",
       "1               0                   1                 6.0                14.0   \n",
       "2               0                  12                 NaN                 NaN   \n",
       "3               0                  12                14.0                 NaN   \n",
       "4               0                   8                 NaN                 NaN   \n",
       "\n",
       "   Purchase  \n",
       "0      8370  \n",
       "1     15200  \n",
       "2      1422  \n",
       "3      1057  \n",
       "4      7969  "
      ]
     },
     "execution_count": 4,
     "metadata": {},
     "output_type": "execute_result"
    }
   ],
   "source": [
    "df.drop(['User_ID', 'Product_ID'], axis=1, inplace=True)\n",
    "df.head()"
   ]
  },
  {
   "cell_type": "markdown",
   "id": "03600c6f-9dce-4816-99da-bbee3d3c075a",
   "metadata": {},
   "source": [
    "## Explore categorical features"
   ]
  },
  {
   "cell_type": "markdown",
   "id": "e4f5bdeb-d628-47fb-b709-a5960ffa96ab",
   "metadata": {},
   "source": [
    "<div class=\"alert alert-info\">\n",
    "    By looking at above dataset, without doing any further analysis, we can see that following features are categorical features.\n",
    "    <ol>\n",
    "        <li>Gender</li>\n",
    "        <li>Age (Age groups)</li>\n",
    "        <li>City_category</li>\n",
    "        <li>Marital_Status</li>\n",
    "    </ol>\n",
    "    </div>"
   ]
  },
  {
   "cell_type": "markdown",
   "id": "5ccc5d20-27a7-4cdd-a5b2-918a820f0025",
   "metadata": {},
   "source": [
    "### Further exploring the features..."
   ]
  },
  {
   "cell_type": "code",
   "execution_count": 5,
   "id": "551bac52-0186-4e06-978a-1598c391d17f",
   "metadata": {},
   "outputs": [
    {
     "data": {
      "text/plain": [
       "1     193821\n",
       "2     101838\n",
       "3      95285\n",
       "4+     84726\n",
       "0      74398\n",
       "Name: Stay_In_Current_City_Years, dtype: int64"
      ]
     },
     "execution_count": 5,
     "metadata": {},
     "output_type": "execute_result"
    }
   ],
   "source": [
    "df.Stay_In_Current_City_Years.value_counts()"
   ]
  },
  {
   "cell_type": "code",
   "execution_count": 6,
   "id": "b0c98bfe-5904-4b21-8c91-039db97b9e42",
   "metadata": {},
   "outputs": [
    {
     "data": {
      "text/plain": [
       "5     150933\n",
       "1     140378\n",
       "8     113925\n",
       "11     24287\n",
       "2      23864\n",
       "6      20466\n",
       "3      20213\n",
       "4      11753\n",
       "16      9828\n",
       "15      6290\n",
       "13      5549\n",
       "10      5125\n",
       "12      3947\n",
       "7       3721\n",
       "18      3125\n",
       "20      2550\n",
       "19      1603\n",
       "14      1523\n",
       "17       578\n",
       "9        410\n",
       "Name: Product_Category_1, dtype: int64"
      ]
     },
     "execution_count": 6,
     "metadata": {},
     "output_type": "execute_result"
    }
   ],
   "source": [
    "df['Product_Category_1'].value_counts()"
   ]
  },
  {
   "cell_type": "markdown",
   "id": "330d9c8e-8990-4558-a287-e7aa07a17aec",
   "metadata": {},
   "source": [
    "<div class='alert alert-info'>\n",
    "    <h3>Observations:</h3>\n",
    "    <ol>\n",
    "        <li><b>Stay_In_Current_City_Years</b> can be considered as a categorical feature.</li>\n",
    "        <li><b>Product_Category_1, Product_Category_2 and Product_Category_3</b> should be considered as <b>categorical</b> features.</li>\n",
    "    </ol>\n",
    "    <h4>Every independent feature in the dataset is a categorical feature.</h4>\n",
    "</div>"
   ]
  },
  {
   "cell_type": "markdown",
   "id": "b66c657c-a3b8-4d2d-a8bb-e0c992609d10",
   "metadata": {},
   "source": [
    "## Exploratory Data Analysis (EDA)"
   ]
  },
  {
   "cell_type": "markdown",
   "id": "eab06477-8b79-47fb-b462-afec74bfef96",
   "metadata": {},
   "source": [
    "#### clean up **Stay_In_Current_City_Years** feature\n",
    "we can see Stay_In_Current_City_Years has a value like **4+** which is a non-numeric value. We can remove the + sign and make the entire field numeric easily."
   ]
  },
  {
   "cell_type": "code",
   "execution_count": 7,
   "id": "40cfddf7-b9be-4c22-ac30-da52e6733ba1",
   "metadata": {},
   "outputs": [
    {
     "name": "stderr",
     "output_type": "stream",
     "text": [
      "C:\\Users\\navilog\\AppData\\Local\\Temp\\ipykernel_28484\\2030241946.py:1: FutureWarning: The default value of regex will change from True to False in a future version. In addition, single character regular expressions will *not* be treated as literal strings when regex=True.\n",
      "  df['Stay_In_Current_City_Years'] = df['Stay_In_Current_City_Years'].str.replace('+', '')\n"
     ]
    },
    {
     "data": {
      "text/html": [
       "<div>\n",
       "<style scoped>\n",
       "    .dataframe tbody tr th:only-of-type {\n",
       "        vertical-align: middle;\n",
       "    }\n",
       "\n",
       "    .dataframe tbody tr th {\n",
       "        vertical-align: top;\n",
       "    }\n",
       "\n",
       "    .dataframe thead th {\n",
       "        text-align: right;\n",
       "    }\n",
       "</style>\n",
       "<table border=\"1\" class=\"dataframe\">\n",
       "  <thead>\n",
       "    <tr style=\"text-align: right;\">\n",
       "      <th></th>\n",
       "      <th>Gender</th>\n",
       "      <th>Age</th>\n",
       "      <th>Occupation</th>\n",
       "      <th>City_Category</th>\n",
       "      <th>Stay_In_Current_City_Years</th>\n",
       "      <th>Marital_Status</th>\n",
       "      <th>Product_Category_1</th>\n",
       "      <th>Product_Category_2</th>\n",
       "      <th>Product_Category_3</th>\n",
       "      <th>Purchase</th>\n",
       "    </tr>\n",
       "  </thead>\n",
       "  <tbody>\n",
       "    <tr>\n",
       "      <th>0</th>\n",
       "      <td>F</td>\n",
       "      <td>0-17</td>\n",
       "      <td>10</td>\n",
       "      <td>A</td>\n",
       "      <td>2</td>\n",
       "      <td>0</td>\n",
       "      <td>3</td>\n",
       "      <td>NaN</td>\n",
       "      <td>NaN</td>\n",
       "      <td>8370</td>\n",
       "    </tr>\n",
       "    <tr>\n",
       "      <th>1</th>\n",
       "      <td>F</td>\n",
       "      <td>0-17</td>\n",
       "      <td>10</td>\n",
       "      <td>A</td>\n",
       "      <td>2</td>\n",
       "      <td>0</td>\n",
       "      <td>1</td>\n",
       "      <td>6.0</td>\n",
       "      <td>14.0</td>\n",
       "      <td>15200</td>\n",
       "    </tr>\n",
       "    <tr>\n",
       "      <th>2</th>\n",
       "      <td>F</td>\n",
       "      <td>0-17</td>\n",
       "      <td>10</td>\n",
       "      <td>A</td>\n",
       "      <td>2</td>\n",
       "      <td>0</td>\n",
       "      <td>12</td>\n",
       "      <td>NaN</td>\n",
       "      <td>NaN</td>\n",
       "      <td>1422</td>\n",
       "    </tr>\n",
       "    <tr>\n",
       "      <th>3</th>\n",
       "      <td>F</td>\n",
       "      <td>0-17</td>\n",
       "      <td>10</td>\n",
       "      <td>A</td>\n",
       "      <td>2</td>\n",
       "      <td>0</td>\n",
       "      <td>12</td>\n",
       "      <td>14.0</td>\n",
       "      <td>NaN</td>\n",
       "      <td>1057</td>\n",
       "    </tr>\n",
       "    <tr>\n",
       "      <th>4</th>\n",
       "      <td>M</td>\n",
       "      <td>55+</td>\n",
       "      <td>16</td>\n",
       "      <td>C</td>\n",
       "      <td>4</td>\n",
       "      <td>0</td>\n",
       "      <td>8</td>\n",
       "      <td>NaN</td>\n",
       "      <td>NaN</td>\n",
       "      <td>7969</td>\n",
       "    </tr>\n",
       "  </tbody>\n",
       "</table>\n",
       "</div>"
      ],
      "text/plain": [
       "  Gender   Age  Occupation City_Category Stay_In_Current_City_Years  \\\n",
       "0      F  0-17          10             A                          2   \n",
       "1      F  0-17          10             A                          2   \n",
       "2      F  0-17          10             A                          2   \n",
       "3      F  0-17          10             A                          2   \n",
       "4      M   55+          16             C                          4   \n",
       "\n",
       "   Marital_Status  Product_Category_1  Product_Category_2  Product_Category_3  \\\n",
       "0               0                   3                 NaN                 NaN   \n",
       "1               0                   1                 6.0                14.0   \n",
       "2               0                  12                 NaN                 NaN   \n",
       "3               0                  12                14.0                 NaN   \n",
       "4               0                   8                 NaN                 NaN   \n",
       "\n",
       "   Purchase  \n",
       "0      8370  \n",
       "1     15200  \n",
       "2      1422  \n",
       "3      1057  \n",
       "4      7969  "
      ]
     },
     "execution_count": 7,
     "metadata": {},
     "output_type": "execute_result"
    }
   ],
   "source": [
    "df['Stay_In_Current_City_Years'] = df['Stay_In_Current_City_Years'].str.replace('+', '')\n",
    "df.head()"
   ]
  },
  {
   "cell_type": "markdown",
   "id": "e9a3fd11-cf2b-48ff-887f-2e672e1f23ab",
   "metadata": {},
   "source": [
    "### Dealing with missing values"
   ]
  },
  {
   "cell_type": "code",
   "execution_count": 8,
   "id": "b61bd0a7-65d0-4a23-bdf8-3044fcf4790b",
   "metadata": {},
   "outputs": [
    {
     "data": {
      "text/plain": [
       "Gender                             0\n",
       "Age                                0\n",
       "Occupation                         0\n",
       "City_Category                      0\n",
       "Stay_In_Current_City_Years         0\n",
       "Marital_Status                     0\n",
       "Product_Category_1                 0\n",
       "Product_Category_2            173638\n",
       "Product_Category_3            383247\n",
       "Purchase                           0\n",
       "dtype: int64"
      ]
     },
     "execution_count": 8,
     "metadata": {},
     "output_type": "execute_result"
    }
   ],
   "source": [
    "df.isna().sum()"
   ]
  },
  {
   "cell_type": "markdown",
   "id": "af43e51a-0184-4378-9b8f-137c56a7fc0f",
   "metadata": {},
   "source": [
    "<div class='alert alert-info'>\n",
    "    <h3>Observations:</h3>\n",
    "    <h4>Product_Category_2 and Product_Category_3 have huge number of NaN values.</h4>\n",
    "    Since the numner is very large, we cannot drop those records.<br/>\n",
    "    Since these fields are <b>categorical</b>, we can use <b>mode</b> to replace NaN values.\n",
    "</div>"
   ]
  },
  {
   "cell_type": "code",
   "execution_count": 9,
   "id": "785e2d3e-5f6e-4cdd-b004-f617363e7809",
   "metadata": {},
   "outputs": [],
   "source": [
    "df['Product_Category_2'] = df['Product_Category_2'].fillna(df['Product_Category_2'].mode()[0])\n",
    "df['Product_Category_3'] = df['Product_Category_3'].fillna(df['Product_Category_3'].mode()[0])"
   ]
  },
  {
   "cell_type": "code",
   "execution_count": 10,
   "id": "26436e09-803b-4fb3-bcec-525606fc6016",
   "metadata": {},
   "outputs": [
    {
     "data": {
      "text/html": [
       "<div>\n",
       "<style scoped>\n",
       "    .dataframe tbody tr th:only-of-type {\n",
       "        vertical-align: middle;\n",
       "    }\n",
       "\n",
       "    .dataframe tbody tr th {\n",
       "        vertical-align: top;\n",
       "    }\n",
       "\n",
       "    .dataframe thead th {\n",
       "        text-align: right;\n",
       "    }\n",
       "</style>\n",
       "<table border=\"1\" class=\"dataframe\">\n",
       "  <thead>\n",
       "    <tr style=\"text-align: right;\">\n",
       "      <th></th>\n",
       "      <th>Gender</th>\n",
       "      <th>Age</th>\n",
       "      <th>Occupation</th>\n",
       "      <th>City_Category</th>\n",
       "      <th>Stay_In_Current_City_Years</th>\n",
       "      <th>Marital_Status</th>\n",
       "      <th>Product_Category_1</th>\n",
       "      <th>Product_Category_2</th>\n",
       "      <th>Product_Category_3</th>\n",
       "      <th>Purchase</th>\n",
       "    </tr>\n",
       "  </thead>\n",
       "  <tbody>\n",
       "    <tr>\n",
       "      <th>0</th>\n",
       "      <td>F</td>\n",
       "      <td>0-17</td>\n",
       "      <td>10</td>\n",
       "      <td>A</td>\n",
       "      <td>2</td>\n",
       "      <td>0</td>\n",
       "      <td>3</td>\n",
       "      <td>8.0</td>\n",
       "      <td>16.0</td>\n",
       "      <td>8370</td>\n",
       "    </tr>\n",
       "    <tr>\n",
       "      <th>1</th>\n",
       "      <td>F</td>\n",
       "      <td>0-17</td>\n",
       "      <td>10</td>\n",
       "      <td>A</td>\n",
       "      <td>2</td>\n",
       "      <td>0</td>\n",
       "      <td>1</td>\n",
       "      <td>6.0</td>\n",
       "      <td>14.0</td>\n",
       "      <td>15200</td>\n",
       "    </tr>\n",
       "    <tr>\n",
       "      <th>2</th>\n",
       "      <td>F</td>\n",
       "      <td>0-17</td>\n",
       "      <td>10</td>\n",
       "      <td>A</td>\n",
       "      <td>2</td>\n",
       "      <td>0</td>\n",
       "      <td>12</td>\n",
       "      <td>8.0</td>\n",
       "      <td>16.0</td>\n",
       "      <td>1422</td>\n",
       "    </tr>\n",
       "    <tr>\n",
       "      <th>3</th>\n",
       "      <td>F</td>\n",
       "      <td>0-17</td>\n",
       "      <td>10</td>\n",
       "      <td>A</td>\n",
       "      <td>2</td>\n",
       "      <td>0</td>\n",
       "      <td>12</td>\n",
       "      <td>14.0</td>\n",
       "      <td>16.0</td>\n",
       "      <td>1057</td>\n",
       "    </tr>\n",
       "    <tr>\n",
       "      <th>4</th>\n",
       "      <td>M</td>\n",
       "      <td>55+</td>\n",
       "      <td>16</td>\n",
       "      <td>C</td>\n",
       "      <td>4</td>\n",
       "      <td>0</td>\n",
       "      <td>8</td>\n",
       "      <td>8.0</td>\n",
       "      <td>16.0</td>\n",
       "      <td>7969</td>\n",
       "    </tr>\n",
       "  </tbody>\n",
       "</table>\n",
       "</div>"
      ],
      "text/plain": [
       "  Gender   Age  Occupation City_Category Stay_In_Current_City_Years  \\\n",
       "0      F  0-17          10             A                          2   \n",
       "1      F  0-17          10             A                          2   \n",
       "2      F  0-17          10             A                          2   \n",
       "3      F  0-17          10             A                          2   \n",
       "4      M   55+          16             C                          4   \n",
       "\n",
       "   Marital_Status  Product_Category_1  Product_Category_2  Product_Category_3  \\\n",
       "0               0                   3                 8.0                16.0   \n",
       "1               0                   1                 6.0                14.0   \n",
       "2               0                  12                 8.0                16.0   \n",
       "3               0                  12                14.0                16.0   \n",
       "4               0                   8                 8.0                16.0   \n",
       "\n",
       "   Purchase  \n",
       "0      8370  \n",
       "1     15200  \n",
       "2      1422  \n",
       "3      1057  \n",
       "4      7969  "
      ]
     },
     "execution_count": 10,
     "metadata": {},
     "output_type": "execute_result"
    }
   ],
   "source": [
    "df.head()"
   ]
  },
  {
   "cell_type": "code",
   "execution_count": 11,
   "id": "0bb695b2-12d6-44c7-908e-cb3fc6b271e6",
   "metadata": {},
   "outputs": [
    {
     "data": {
      "text/plain": [
       "Gender                        0\n",
       "Age                           0\n",
       "Occupation                    0\n",
       "City_Category                 0\n",
       "Stay_In_Current_City_Years    0\n",
       "Marital_Status                0\n",
       "Product_Category_1            0\n",
       "Product_Category_2            0\n",
       "Product_Category_3            0\n",
       "Purchase                      0\n",
       "dtype: int64"
      ]
     },
     "execution_count": 11,
     "metadata": {},
     "output_type": "execute_result"
    }
   ],
   "source": [
    "df.isna().sum()"
   ]
  },
  {
   "cell_type": "code",
   "execution_count": 12,
   "id": "e1ebf834-23f3-4173-94f8-6efce9b867e0",
   "metadata": {},
   "outputs": [
    {
     "data": {
      "text/plain": [
       "Gender                         object\n",
       "Age                            object\n",
       "Occupation                      int64\n",
       "City_Category                  object\n",
       "Stay_In_Current_City_Years     object\n",
       "Marital_Status                  int64\n",
       "Product_Category_1              int64\n",
       "Product_Category_2            float64\n",
       "Product_Category_3            float64\n",
       "Purchase                        int64\n",
       "dtype: object"
      ]
     },
     "execution_count": 12,
     "metadata": {},
     "output_type": "execute_result"
    }
   ],
   "source": [
    "df.dtypes"
   ]
  },
  {
   "cell_type": "code",
   "execution_count": 13,
   "id": "1caae4ea-0cdd-4879-9792-58205a1627ec",
   "metadata": {},
   "outputs": [],
   "source": [
    "# convert Stay_In_Current_City_Years into int\n",
    "df['Stay_In_Current_City_Years'] = df['Stay_In_Current_City_Years'].astype(int)"
   ]
  },
  {
   "cell_type": "code",
   "execution_count": 14,
   "id": "21ad1d3f-bcc7-45e6-8088-8177e5b1cfcc",
   "metadata": {},
   "outputs": [
    {
     "data": {
      "text/plain": [
       "Gender                         object\n",
       "Age                            object\n",
       "Occupation                      int64\n",
       "City_Category                  object\n",
       "Stay_In_Current_City_Years      int32\n",
       "Marital_Status                  int64\n",
       "Product_Category_1              int64\n",
       "Product_Category_2            float64\n",
       "Product_Category_3            float64\n",
       "Purchase                        int64\n",
       "dtype: object"
      ]
     },
     "execution_count": 14,
     "metadata": {},
     "output_type": "execute_result"
    }
   ],
   "source": [
    "df.dtypes"
   ]
  },
  {
   "cell_type": "markdown",
   "id": "86330614-31d9-4048-81ec-eb6cb44fe47c",
   "metadata": {},
   "source": [
    "### Univariate Analysis"
   ]
  },
  {
   "cell_type": "code",
   "execution_count": 15,
   "id": "c80238db-6794-458a-8b47-1355e9acad85",
   "metadata": {},
   "outputs": [
    {
     "data": {
      "image/png": "[encoded data removed]",
      "text/plain": [
       "<Figure size 1700x5000 with 56 Axes>"
      ]
     },
     "metadata": {},
     "output_type": "display_data"
    }
   ],
   "source": [
    "columns = list(df)[0:-1] # select first 8 colums\n",
    "df[columns].hist(bins=50, figsize=(17, 50), layout=(14, 4))\n",
    "plt.show()"
   ]
  },
  {
   "cell_type": "code",
   "execution_count": 16,
   "id": "320f3fd9-b2b2-4bc5-8b37-50f4c3a481f6",
   "metadata": {},
   "outputs": [
    {
     "data": {
      "text/plain": [
       "<Axes: >"
      ]
     },
     "execution_count": 16,
     "metadata": {},
     "output_type": "execute_result"
    },
    {
     "data": {
      "image/png": "[encoded data removed]",
      "text/plain": [
       "<Figure size 1200x500 with 1 Axes>"
      ]
     },
     "metadata": {},
     "output_type": "display_data"
    }
   ],
   "source": [
    "df.loc[:, list(df)[0:-1]].boxplot(figsize=(12, 5))"
   ]
  },
  {
   "cell_type": "code",
   "execution_count": 17,
   "id": "2a50e29d-7fc4-4932-a86b-265522959282",
   "metadata": {},
   "outputs": [
    {
     "data": {
      "text/html": [
       "<div>\n",
       "<style scoped>\n",
       "    .dataframe tbody tr th:only-of-type {\n",
       "        vertical-align: middle;\n",
       "    }\n",
       "\n",
       "    .dataframe tbody tr th {\n",
       "        vertical-align: top;\n",
       "    }\n",
       "\n",
       "    .dataframe thead th {\n",
       "        text-align: right;\n",
       "    }\n",
       "</style>\n",
       "<table border=\"1\" class=\"dataframe\">\n",
       "  <thead>\n",
       "    <tr style=\"text-align: right;\">\n",
       "      <th></th>\n",
       "      <th>Occupation</th>\n",
       "      <th>Stay_In_Current_City_Years</th>\n",
       "      <th>Marital_Status</th>\n",
       "      <th>Product_Category_1</th>\n",
       "      <th>Product_Category_2</th>\n",
       "      <th>Product_Category_3</th>\n",
       "      <th>Purchase</th>\n",
       "    </tr>\n",
       "  </thead>\n",
       "  <tbody>\n",
       "    <tr>\n",
       "      <th>Occupation</th>\n",
       "      <td>1.000000</td>\n",
       "      <td>0.030005</td>\n",
       "      <td>0.024280</td>\n",
       "      <td>-0.007618</td>\n",
       "      <td>0.001566</td>\n",
       "      <td>0.000246</td>\n",
       "      <td>0.020833</td>\n",
       "    </tr>\n",
       "    <tr>\n",
       "      <th>Stay_In_Current_City_Years</th>\n",
       "      <td>0.030005</td>\n",
       "      <td>1.000000</td>\n",
       "      <td>-0.012819</td>\n",
       "      <td>-0.004213</td>\n",
       "      <td>-0.000748</td>\n",
       "      <td>0.000016</td>\n",
       "      <td>0.005422</td>\n",
       "    </tr>\n",
       "    <tr>\n",
       "      <th>Marital_Status</th>\n",
       "      <td>0.024280</td>\n",
       "      <td>-0.012819</td>\n",
       "      <td>1.000000</td>\n",
       "      <td>0.019888</td>\n",
       "      <td>0.010260</td>\n",
       "      <td>0.013978</td>\n",
       "      <td>-0.000463</td>\n",
       "    </tr>\n",
       "    <tr>\n",
       "      <th>Product_Category_1</th>\n",
       "      <td>-0.007618</td>\n",
       "      <td>-0.004213</td>\n",
       "      <td>0.019888</td>\n",
       "      <td>1.000000</td>\n",
       "      <td>0.279247</td>\n",
       "      <td>0.317944</td>\n",
       "      <td>-0.343703</td>\n",
       "    </tr>\n",
       "    <tr>\n",
       "      <th>Product_Category_2</th>\n",
       "      <td>0.001566</td>\n",
       "      <td>-0.000748</td>\n",
       "      <td>0.010260</td>\n",
       "      <td>0.279247</td>\n",
       "      <td>1.000000</td>\n",
       "      <td>0.463188</td>\n",
       "      <td>-0.128651</td>\n",
       "    </tr>\n",
       "    <tr>\n",
       "      <th>Product_Category_3</th>\n",
       "      <td>0.000246</td>\n",
       "      <td>0.000016</td>\n",
       "      <td>0.013978</td>\n",
       "      <td>0.317944</td>\n",
       "      <td>0.463188</td>\n",
       "      <td>1.000000</td>\n",
       "      <td>-0.185945</td>\n",
       "    </tr>\n",
       "    <tr>\n",
       "      <th>Purchase</th>\n",
       "      <td>0.020833</td>\n",
       "      <td>0.005422</td>\n",
       "      <td>-0.000463</td>\n",
       "      <td>-0.343703</td>\n",
       "      <td>-0.128651</td>\n",
       "      <td>-0.185945</td>\n",
       "      <td>1.000000</td>\n",
       "    </tr>\n",
       "  </tbody>\n",
       "</table>\n",
       "</div>"
      ],
      "text/plain": [
       "                            Occupation  Stay_In_Current_City_Years  \\\n",
       "Occupation                    1.000000                    0.030005   \n",
       "Stay_In_Current_City_Years    0.030005                    1.000000   \n",
       "Marital_Status                0.024280                   -0.012819   \n",
       "Product_Category_1           -0.007618                   -0.004213   \n",
       "Product_Category_2            0.001566                   -0.000748   \n",
       "Product_Category_3            0.000246                    0.000016   \n",
       "Purchase                      0.020833                    0.005422   \n",
       "\n",
       "                            Marital_Status  Product_Category_1  \\\n",
       "Occupation                        0.024280           -0.007618   \n",
       "Stay_In_Current_City_Years       -0.012819           -0.004213   \n",
       "Marital_Status                    1.000000            0.019888   \n",
       "Product_Category_1                0.019888            1.000000   \n",
       "Product_Category_2                0.010260            0.279247   \n",
       "Product_Category_3                0.013978            0.317944   \n",
       "Purchase                         -0.000463           -0.343703   \n",
       "\n",
       "                            Product_Category_2  Product_Category_3  Purchase  \n",
       "Occupation                            0.001566            0.000246  0.020833  \n",
       "Stay_In_Current_City_Years           -0.000748            0.000016  0.005422  \n",
       "Marital_Status                        0.010260            0.013978 -0.000463  \n",
       "Product_Category_1                    0.279247            0.317944 -0.343703  \n",
       "Product_Category_2                    1.000000            0.463188 -0.128651  \n",
       "Product_Category_3                    0.463188            1.000000 -0.185945  \n",
       "Purchase                             -0.128651           -0.185945  1.000000  "
      ]
     },
     "execution_count": 17,
     "metadata": {},
     "output_type": "execute_result"
    }
   ],
   "source": [
    "df.corr(numeric_only=True)"
   ]
  },
  {
   "cell_type": "code",
   "execution_count": 18,
   "id": "29658f06-40a9-418c-95bf-38154720ecf7",
   "metadata": {},
   "outputs": [
    {
     "data": {
      "image/png": "[encoded data removed]",
      "text/plain": [
       "<Figure size 1000x700 with 2 Axes>"
      ]
     },
     "metadata": {},
     "output_type": "display_data"
    }
   ],
   "source": [
    "plt.figure(figsize=(10, 7))\n",
    "sns.heatmap(df.corr(numeric_only=True), vmax=1, square=False, annot=True, cmap='plasma')\n",
    "plt.show()"
   ]
  },
  {
   "cell_type": "markdown",
   "id": "0ef6f485-4f63-4e74-ad11-ad44da56e8ca",
   "metadata": {},
   "source": [
    "<div class='alert alert-info'>\n",
    "    <h3>Observations:</h3>\n",
    "    <h4>Stay_In_Current_City_Years and Marital_Status have very correlation with dependent variable.</h4>\n",
    "    So, we can remove them from dataset.\n",
    "</div>"
   ]
  },
  {
   "cell_type": "code",
   "execution_count": 19,
   "id": "0d541738-0eda-4d9b-b99c-5b1070100978",
   "metadata": {},
   "outputs": [
    {
     "data": {
      "text/html": [
       "<div>\n",
       "<style scoped>\n",
       "    .dataframe tbody tr th:only-of-type {\n",
       "        vertical-align: middle;\n",
       "    }\n",
       "\n",
       "    .dataframe tbody tr th {\n",
       "        vertical-align: top;\n",
       "    }\n",
       "\n",
       "    .dataframe thead th {\n",
       "        text-align: right;\n",
       "    }\n",
       "</style>\n",
       "<table border=\"1\" class=\"dataframe\">\n",
       "  <thead>\n",
       "    <tr style=\"text-align: right;\">\n",
       "      <th></th>\n",
       "      <th>Gender</th>\n",
       "      <th>Age</th>\n",
       "      <th>Occupation</th>\n",
       "      <th>City_Category</th>\n",
       "      <th>Product_Category_1</th>\n",
       "      <th>Product_Category_2</th>\n",
       "      <th>Product_Category_3</th>\n",
       "      <th>Purchase</th>\n",
       "    </tr>\n",
       "  </thead>\n",
       "  <tbody>\n",
       "    <tr>\n",
       "      <th>0</th>\n",
       "      <td>F</td>\n",
       "      <td>0-17</td>\n",
       "      <td>10</td>\n",
       "      <td>A</td>\n",
       "      <td>3</td>\n",
       "      <td>8.0</td>\n",
       "      <td>16.0</td>\n",
       "      <td>8370</td>\n",
       "    </tr>\n",
       "    <tr>\n",
       "      <th>1</th>\n",
       "      <td>F</td>\n",
       "      <td>0-17</td>\n",
       "      <td>10</td>\n",
       "      <td>A</td>\n",
       "      <td>1</td>\n",
       "      <td>6.0</td>\n",
       "      <td>14.0</td>\n",
       "      <td>15200</td>\n",
       "    </tr>\n",
       "    <tr>\n",
       "      <th>2</th>\n",
       "      <td>F</td>\n",
       "      <td>0-17</td>\n",
       "      <td>10</td>\n",
       "      <td>A</td>\n",
       "      <td>12</td>\n",
       "      <td>8.0</td>\n",
       "      <td>16.0</td>\n",
       "      <td>1422</td>\n",
       "    </tr>\n",
       "    <tr>\n",
       "      <th>3</th>\n",
       "      <td>F</td>\n",
       "      <td>0-17</td>\n",
       "      <td>10</td>\n",
       "      <td>A</td>\n",
       "      <td>12</td>\n",
       "      <td>14.0</td>\n",
       "      <td>16.0</td>\n",
       "      <td>1057</td>\n",
       "    </tr>\n",
       "    <tr>\n",
       "      <th>4</th>\n",
       "      <td>M</td>\n",
       "      <td>55+</td>\n",
       "      <td>16</td>\n",
       "      <td>C</td>\n",
       "      <td>8</td>\n",
       "      <td>8.0</td>\n",
       "      <td>16.0</td>\n",
       "      <td>7969</td>\n",
       "    </tr>\n",
       "  </tbody>\n",
       "</table>\n",
       "</div>"
      ],
      "text/plain": [
       "  Gender   Age  Occupation City_Category  Product_Category_1  \\\n",
       "0      F  0-17          10             A                   3   \n",
       "1      F  0-17          10             A                   1   \n",
       "2      F  0-17          10             A                  12   \n",
       "3      F  0-17          10             A                  12   \n",
       "4      M   55+          16             C                   8   \n",
       "\n",
       "   Product_Category_2  Product_Category_3  Purchase  \n",
       "0                 8.0                16.0      8370  \n",
       "1                 6.0                14.0     15200  \n",
       "2                 8.0                16.0      1422  \n",
       "3                14.0                16.0      1057  \n",
       "4                 8.0                16.0      7969  "
      ]
     },
     "execution_count": 19,
     "metadata": {},
     "output_type": "execute_result"
    }
   ],
   "source": [
    "df.drop(['Stay_In_Current_City_Years', 'Marital_Status'], axis=1, inplace=True)\n",
    "df.head()"
   ]
  },
  {
   "cell_type": "code",
   "execution_count": 20,
   "id": "bf9d5320-4a34-4523-9641-a4b6424d5445",
   "metadata": {},
   "outputs": [
    {
     "data": {
      "image/png": "[encoded data removed]",
      "text/plain": [
       "<Figure size 640x480 with 1 Axes>"
      ]
     },
     "metadata": {},
     "output_type": "display_data"
    }
   ],
   "source": [
    "sns.barplot(data=df, x='Age', y='Purchase', hue='Gender')\n",
    "plt.title('Purchases vs Age and Gender')\n",
    "plt.show()"
   ]
  },
  {
   "cell_type": "markdown",
   "id": "70f0b3bf-7b6c-4f19-9676-06f1e3c79ff1",
   "metadata": {},
   "source": [
    "<div class='alert alert-info'>\n",
    "    <h3>Observations:</h3>\n",
    "    <ol>\n",
    "        <li>Overall, <b>Age</b> and <b>Gender</b> has no major influence on Purchases.\n",
    "        <li>Men has purchased more than women in every age group.\n",
    "    </ol>\n",
    "</div>"
   ]
  },
  {
   "cell_type": "code",
   "execution_count": 21,
   "id": "10a87e95-0f46-4c00-b29c-c6c8e55e0260",
   "metadata": {},
   "outputs": [
    {
     "data": {
      "image/png": "[encoded data removed]",
      "text/plain": [
       "<Figure size 640x480 with 1 Axes>"
      ]
     },
     "metadata": {},
     "output_type": "display_data"
    }
   ],
   "source": [
    "sns.barplot(data=df, x='City_Category', y='Purchase', hue='Gender')\n",
    "plt.title('Purchases vs City Category and Gender')\n",
    "plt.show()"
   ]
  },
  {
   "cell_type": "markdown",
   "id": "8dca8fa2-84ef-48d3-aef9-38326994d98e",
   "metadata": {},
   "source": [
    "<div class='alert alert-info'>\n",
    "    <h3>Observations:</h3>\n",
    "    <ol>\n",
    "        <li>Overall, <b>City Category</b> and <b>Gender</b> has no major influence on Purchases.\n",
    "        <li>Men has purchased more than women in every city category.\n",
    "    </ol>\n",
    "</div>"
   ]
  },
  {
   "cell_type": "code",
   "execution_count": 22,
   "id": "6faefeeb-70bc-49fc-b554-4ae8358e43f2",
   "metadata": {},
   "outputs": [
    {
     "data": {
      "image/png": "[encoded data removed]",
      "text/plain": [
       "<Figure size 1200x500 with 1 Axes>"
      ]
     },
     "metadata": {},
     "output_type": "display_data"
    }
   ],
   "source": [
    "plt.figure(figsize=(12, 5))\n",
    "sns.barplot(data=df, x='Occupation', y='Purchase', hue='Gender')\n",
    "plt.title('Purchases vs Occupation and Gender')\n",
    "plt.show()"
   ]
  },
  {
   "cell_type": "markdown",
   "id": "7903d904-b3b8-4f52-8048-96c1a2e5753a",
   "metadata": {},
   "source": [
    "<div class='alert alert-info'>\n",
    "    <h3>Observations:</h3>\n",
    "    <ol>\n",
    "        <li>Overall, every <b>Occupation</b> has similar purchase pattern.\n",
    "        <li>Men has purchased more than women in every Occupation except Occupation 18.\n",
    "    </ol>\n",
    "</div>"
   ]
  },
  {
   "cell_type": "markdown",
   "id": "55d28c2e-38d2-421a-a74c-b3dcf743d40c",
   "metadata": {},
   "source": [
    "## Feature Engineering\n",
    "### Feature generation\n",
    "Here we perform **One-Hot encoding** technique to generate new features based on some of the categorical features in the dataset."
   ]
  },
  {
   "cell_type": "code",
   "execution_count": 23,
   "id": "f7db7751-dcb6-42c6-a730-bf13a259e150",
   "metadata": {},
   "outputs": [
    {
     "data": {
      "text/html": [
       "<div>\n",
       "<style scoped>\n",
       "    .dataframe tbody tr th:only-of-type {\n",
       "        vertical-align: middle;\n",
       "    }\n",
       "\n",
       "    .dataframe tbody tr th {\n",
       "        vertical-align: top;\n",
       "    }\n",
       "\n",
       "    .dataframe thead th {\n",
       "        text-align: right;\n",
       "    }\n",
       "</style>\n",
       "<table border=\"1\" class=\"dataframe\">\n",
       "  <thead>\n",
       "    <tr style=\"text-align: right;\">\n",
       "      <th></th>\n",
       "      <th>Gender</th>\n",
       "      <th>Age</th>\n",
       "      <th>Occupation</th>\n",
       "      <th>City_Category</th>\n",
       "      <th>Product_Category_1</th>\n",
       "      <th>Product_Category_2</th>\n",
       "      <th>Product_Category_3</th>\n",
       "      <th>Purchase</th>\n",
       "    </tr>\n",
       "  </thead>\n",
       "  <tbody>\n",
       "    <tr>\n",
       "      <th>0</th>\n",
       "      <td>F</td>\n",
       "      <td>0-17</td>\n",
       "      <td>10</td>\n",
       "      <td>A</td>\n",
       "      <td>3</td>\n",
       "      <td>8.0</td>\n",
       "      <td>16.0</td>\n",
       "      <td>8370</td>\n",
       "    </tr>\n",
       "    <tr>\n",
       "      <th>1</th>\n",
       "      <td>F</td>\n",
       "      <td>0-17</td>\n",
       "      <td>10</td>\n",
       "      <td>A</td>\n",
       "      <td>1</td>\n",
       "      <td>6.0</td>\n",
       "      <td>14.0</td>\n",
       "      <td>15200</td>\n",
       "    </tr>\n",
       "    <tr>\n",
       "      <th>2</th>\n",
       "      <td>F</td>\n",
       "      <td>0-17</td>\n",
       "      <td>10</td>\n",
       "      <td>A</td>\n",
       "      <td>12</td>\n",
       "      <td>8.0</td>\n",
       "      <td>16.0</td>\n",
       "      <td>1422</td>\n",
       "    </tr>\n",
       "    <tr>\n",
       "      <th>3</th>\n",
       "      <td>F</td>\n",
       "      <td>0-17</td>\n",
       "      <td>10</td>\n",
       "      <td>A</td>\n",
       "      <td>12</td>\n",
       "      <td>14.0</td>\n",
       "      <td>16.0</td>\n",
       "      <td>1057</td>\n",
       "    </tr>\n",
       "    <tr>\n",
       "      <th>4</th>\n",
       "      <td>M</td>\n",
       "      <td>55+</td>\n",
       "      <td>16</td>\n",
       "      <td>C</td>\n",
       "      <td>8</td>\n",
       "      <td>8.0</td>\n",
       "      <td>16.0</td>\n",
       "      <td>7969</td>\n",
       "    </tr>\n",
       "  </tbody>\n",
       "</table>\n",
       "</div>"
      ],
      "text/plain": [
       "  Gender   Age  Occupation City_Category  Product_Category_1  \\\n",
       "0      F  0-17          10             A                   3   \n",
       "1      F  0-17          10             A                   1   \n",
       "2      F  0-17          10             A                  12   \n",
       "3      F  0-17          10             A                  12   \n",
       "4      M   55+          16             C                   8   \n",
       "\n",
       "   Product_Category_2  Product_Category_3  Purchase  \n",
       "0                 8.0                16.0      8370  \n",
       "1                 6.0                14.0     15200  \n",
       "2                 8.0                16.0      1422  \n",
       "3                14.0                16.0      1057  \n",
       "4                 8.0                16.0      7969  "
      ]
     },
     "execution_count": 23,
     "metadata": {},
     "output_type": "execute_result"
    }
   ],
   "source": [
    "df.head()"
   ]
  },
  {
   "cell_type": "code",
   "execution_count": 24,
   "id": "25db5eb8-69f0-4678-9d08-457adbf6e1ab",
   "metadata": {},
   "outputs": [
    {
     "data": {
      "text/plain": [
       "26-35    219587\n",
       "36-45    110013\n",
       "18-25     99660\n",
       "46-50     45701\n",
       "51-55     38501\n",
       "55+       21504\n",
       "0-17      15102\n",
       "Name: Age, dtype: int64"
      ]
     },
     "execution_count": 24,
     "metadata": {},
     "output_type": "execute_result"
    }
   ],
   "source": [
    "df['Age'].value_counts()"
   ]
  },
  {
   "cell_type": "markdown",
   "id": "7a254156-8b88-41b5-af0d-43fc3c74bdc0",
   "metadata": {},
   "source": [
    "<div class=\"alert alert-info\">\n",
    "    <h3>Observation:</h3>\n",
    "    <ol>\n",
    "        <li>Age group 26-35 represents the maximum purchases followed by the Age group 36-45</li>\n",
    "        <li>Minimum purchases has done by the Age group 0-17</li>\n",
    "    </ol>\n",
    "</div>"
   ]
  },
  {
   "cell_type": "markdown",
   "id": "a7efd198-5a68-450a-982c-9046f390371f",
   "metadata": {},
   "source": [
    "Convert these groups into nemeric values."
   ]
  },
  {
   "cell_type": "code",
   "execution_count": 25,
   "id": "690e2589-52c8-4cb4-857b-e1cdc19c286f",
   "metadata": {},
   "outputs": [],
   "source": [
    "age_group_num = {\n",
    "    '0-17': 1,\n",
    "    '55+': 2,\n",
    "    '51-55': 3,\n",
    "    '46-50': 4,\n",
    "    '18-25': 5,\n",
    "    '36-45': 6,\n",
    "    '26-35': 7\n",
    "}\n",
    "\n",
    "df['Age'] = df['Age'].replace(age_group_num)"
   ]
  },
  {
   "cell_type": "code",
   "execution_count": 26,
   "id": "61ce36ee-f487-4de5-a758-4e553c5de376",
   "metadata": {},
   "outputs": [
    {
     "data": {
      "text/html": [
       "<div>\n",
       "<style scoped>\n",
       "    .dataframe tbody tr th:only-of-type {\n",
       "        vertical-align: middle;\n",
       "    }\n",
       "\n",
       "    .dataframe tbody tr th {\n",
       "        vertical-align: top;\n",
       "    }\n",
       "\n",
       "    .dataframe thead th {\n",
       "        text-align: right;\n",
       "    }\n",
       "</style>\n",
       "<table border=\"1\" class=\"dataframe\">\n",
       "  <thead>\n",
       "    <tr style=\"text-align: right;\">\n",
       "      <th></th>\n",
       "      <th>Gender</th>\n",
       "      <th>Age</th>\n",
       "      <th>Occupation</th>\n",
       "      <th>City_Category</th>\n",
       "      <th>Product_Category_1</th>\n",
       "      <th>Product_Category_2</th>\n",
       "      <th>Product_Category_3</th>\n",
       "      <th>Purchase</th>\n",
       "    </tr>\n",
       "  </thead>\n",
       "  <tbody>\n",
       "    <tr>\n",
       "      <th>0</th>\n",
       "      <td>F</td>\n",
       "      <td>1</td>\n",
       "      <td>10</td>\n",
       "      <td>A</td>\n",
       "      <td>3</td>\n",
       "      <td>8.0</td>\n",
       "      <td>16.0</td>\n",
       "      <td>8370</td>\n",
       "    </tr>\n",
       "    <tr>\n",
       "      <th>1</th>\n",
       "      <td>F</td>\n",
       "      <td>1</td>\n",
       "      <td>10</td>\n",
       "      <td>A</td>\n",
       "      <td>1</td>\n",
       "      <td>6.0</td>\n",
       "      <td>14.0</td>\n",
       "      <td>15200</td>\n",
       "    </tr>\n",
       "    <tr>\n",
       "      <th>2</th>\n",
       "      <td>F</td>\n",
       "      <td>1</td>\n",
       "      <td>10</td>\n",
       "      <td>A</td>\n",
       "      <td>12</td>\n",
       "      <td>8.0</td>\n",
       "      <td>16.0</td>\n",
       "      <td>1422</td>\n",
       "    </tr>\n",
       "    <tr>\n",
       "      <th>3</th>\n",
       "      <td>F</td>\n",
       "      <td>1</td>\n",
       "      <td>10</td>\n",
       "      <td>A</td>\n",
       "      <td>12</td>\n",
       "      <td>14.0</td>\n",
       "      <td>16.0</td>\n",
       "      <td>1057</td>\n",
       "    </tr>\n",
       "    <tr>\n",
       "      <th>4</th>\n",
       "      <td>M</td>\n",
       "      <td>2</td>\n",
       "      <td>16</td>\n",
       "      <td>C</td>\n",
       "      <td>8</td>\n",
       "      <td>8.0</td>\n",
       "      <td>16.0</td>\n",
       "      <td>7969</td>\n",
       "    </tr>\n",
       "  </tbody>\n",
       "</table>\n",
       "</div>"
      ],
      "text/plain": [
       "  Gender  Age  Occupation City_Category  Product_Category_1  \\\n",
       "0      F    1          10             A                   3   \n",
       "1      F    1          10             A                   1   \n",
       "2      F    1          10             A                  12   \n",
       "3      F    1          10             A                  12   \n",
       "4      M    2          16             C                   8   \n",
       "\n",
       "   Product_Category_2  Product_Category_3  Purchase  \n",
       "0                 8.0                16.0      8370  \n",
       "1                 6.0                14.0     15200  \n",
       "2                 8.0                16.0      1422  \n",
       "3                14.0                16.0      1057  \n",
       "4                 8.0                16.0      7969  "
      ]
     },
     "execution_count": 26,
     "metadata": {},
     "output_type": "execute_result"
    }
   ],
   "source": [
    "df.head()"
   ]
  },
  {
   "cell_type": "code",
   "execution_count": 27,
   "id": "f2dc8918-f2f2-4dab-b5f9-236fbdc95fd6",
   "metadata": {},
   "outputs": [
    {
     "data": {
      "text/plain": [
       "B    231173\n",
       "C    171175\n",
       "A    147720\n",
       "Name: City_Category, dtype: int64"
      ]
     },
     "execution_count": 27,
     "metadata": {},
     "output_type": "execute_result"
    }
   ],
   "source": [
    "df['City_Category'].value_counts()"
   ]
  },
  {
   "cell_type": "code",
   "execution_count": 28,
   "id": "3df76b4c-3a26-4ec7-901a-3dc84dfd7f6a",
   "metadata": {},
   "outputs": [
    {
     "data": {
      "text/html": [
       "<div>\n",
       "<style scoped>\n",
       "    .dataframe tbody tr th:only-of-type {\n",
       "        vertical-align: middle;\n",
       "    }\n",
       "\n",
       "    .dataframe tbody tr th {\n",
       "        vertical-align: top;\n",
       "    }\n",
       "\n",
       "    .dataframe thead th {\n",
       "        text-align: right;\n",
       "    }\n",
       "</style>\n",
       "<table border=\"1\" class=\"dataframe\">\n",
       "  <thead>\n",
       "    <tr style=\"text-align: right;\">\n",
       "      <th></th>\n",
       "      <th>City_Category_A</th>\n",
       "      <th>City_Category_B</th>\n",
       "      <th>City_Category_C</th>\n",
       "    </tr>\n",
       "  </thead>\n",
       "  <tbody>\n",
       "    <tr>\n",
       "      <th>0</th>\n",
       "      <td>1</td>\n",
       "      <td>0</td>\n",
       "      <td>0</td>\n",
       "    </tr>\n",
       "    <tr>\n",
       "      <th>1</th>\n",
       "      <td>1</td>\n",
       "      <td>0</td>\n",
       "      <td>0</td>\n",
       "    </tr>\n",
       "    <tr>\n",
       "      <th>2</th>\n",
       "      <td>1</td>\n",
       "      <td>0</td>\n",
       "      <td>0</td>\n",
       "    </tr>\n",
       "    <tr>\n",
       "      <th>3</th>\n",
       "      <td>1</td>\n",
       "      <td>0</td>\n",
       "      <td>0</td>\n",
       "    </tr>\n",
       "    <tr>\n",
       "      <th>4</th>\n",
       "      <td>0</td>\n",
       "      <td>0</td>\n",
       "      <td>1</td>\n",
       "    </tr>\n",
       "    <tr>\n",
       "      <th>...</th>\n",
       "      <td>...</td>\n",
       "      <td>...</td>\n",
       "      <td>...</td>\n",
       "    </tr>\n",
       "    <tr>\n",
       "      <th>550063</th>\n",
       "      <td>0</td>\n",
       "      <td>1</td>\n",
       "      <td>0</td>\n",
       "    </tr>\n",
       "    <tr>\n",
       "      <th>550064</th>\n",
       "      <td>0</td>\n",
       "      <td>0</td>\n",
       "      <td>1</td>\n",
       "    </tr>\n",
       "    <tr>\n",
       "      <th>550065</th>\n",
       "      <td>0</td>\n",
       "      <td>1</td>\n",
       "      <td>0</td>\n",
       "    </tr>\n",
       "    <tr>\n",
       "      <th>550066</th>\n",
       "      <td>0</td>\n",
       "      <td>0</td>\n",
       "      <td>1</td>\n",
       "    </tr>\n",
       "    <tr>\n",
       "      <th>550067</th>\n",
       "      <td>0</td>\n",
       "      <td>1</td>\n",
       "      <td>0</td>\n",
       "    </tr>\n",
       "  </tbody>\n",
       "</table>\n",
       "<p>550068 rows × 3 columns</p>\n",
       "</div>"
      ],
      "text/plain": [
       "        City_Category_A  City_Category_B  City_Category_C\n",
       "0                     1                0                0\n",
       "1                     1                0                0\n",
       "2                     1                0                0\n",
       "3                     1                0                0\n",
       "4                     0                0                1\n",
       "...                 ...              ...              ...\n",
       "550063                0                1                0\n",
       "550064                0                0                1\n",
       "550065                0                1                0\n",
       "550066                0                0                1\n",
       "550067                0                1                0\n",
       "\n",
       "[550068 rows x 3 columns]"
      ]
     },
     "execution_count": 28,
     "metadata": {},
     "output_type": "execute_result"
    }
   ],
   "source": [
    "city_category_dum = pd.get_dummies(df['City_Category'], prefix='City_Category')\n",
    "city_category_dum"
   ]
  },
  {
   "cell_type": "code",
   "execution_count": 31,
   "id": "9c804349-f089-4418-b4ad-1b0d0f6d5e8e",
   "metadata": {},
   "outputs": [],
   "source": [
    "df = pd.concat([df, city_category_dum], axis=1)"
   ]
  },
  {
   "cell_type": "markdown",
   "id": "9f5bc337-aae1-4f54-ba41-4b4621dd6726",
   "metadata": {},
   "source": [
    "Convert Gender values to nemerical"
   ]
  },
  {
   "cell_type": "code",
   "execution_count": 35,
   "id": "41200a14-4675-43f8-bcff-6dd385545565",
   "metadata": {},
   "outputs": [],
   "source": [
    "num_gender = {\n",
    "    'F': 0,\n",
    "    'M': 1\n",
    "}\n",
    "\n",
    "df['Gender'] = df['Gender'].replace(num_gender)"
   ]
  },
  {
   "cell_type": "code",
   "execution_count": 36,
   "id": "fcd84a74-9b93-45d8-8da8-b5200bdff597",
   "metadata": {},
   "outputs": [
    {
     "data": {
      "text/html": [
       "<div>\n",
       "<style scoped>\n",
       "    .dataframe tbody tr th:only-of-type {\n",
       "        vertical-align: middle;\n",
       "    }\n",
       "\n",
       "    .dataframe tbody tr th {\n",
       "        vertical-align: top;\n",
       "    }\n",
       "\n",
       "    .dataframe thead th {\n",
       "        text-align: right;\n",
       "    }\n",
       "</style>\n",
       "<table border=\"1\" class=\"dataframe\">\n",
       "  <thead>\n",
       "    <tr style=\"text-align: right;\">\n",
       "      <th></th>\n",
       "      <th>Gender</th>\n",
       "      <th>Age</th>\n",
       "      <th>Occupation</th>\n",
       "      <th>City_Category</th>\n",
       "      <th>Product_Category_1</th>\n",
       "      <th>Product_Category_2</th>\n",
       "      <th>Product_Category_3</th>\n",
       "      <th>Purchase</th>\n",
       "      <th>City_Category_A</th>\n",
       "      <th>City_Category_B</th>\n",
       "      <th>City_Category_C</th>\n",
       "    </tr>\n",
       "  </thead>\n",
       "  <tbody>\n",
       "    <tr>\n",
       "      <th>0</th>\n",
       "      <td>0</td>\n",
       "      <td>1</td>\n",
       "      <td>10</td>\n",
       "      <td>A</td>\n",
       "      <td>3</td>\n",
       "      <td>8.0</td>\n",
       "      <td>16.0</td>\n",
       "      <td>8370</td>\n",
       "      <td>1</td>\n",
       "      <td>0</td>\n",
       "      <td>0</td>\n",
       "    </tr>\n",
       "    <tr>\n",
       "      <th>1</th>\n",
       "      <td>0</td>\n",
       "      <td>1</td>\n",
       "      <td>10</td>\n",
       "      <td>A</td>\n",
       "      <td>1</td>\n",
       "      <td>6.0</td>\n",
       "      <td>14.0</td>\n",
       "      <td>15200</td>\n",
       "      <td>1</td>\n",
       "      <td>0</td>\n",
       "      <td>0</td>\n",
       "    </tr>\n",
       "    <tr>\n",
       "      <th>2</th>\n",
       "      <td>0</td>\n",
       "      <td>1</td>\n",
       "      <td>10</td>\n",
       "      <td>A</td>\n",
       "      <td>12</td>\n",
       "      <td>8.0</td>\n",
       "      <td>16.0</td>\n",
       "      <td>1422</td>\n",
       "      <td>1</td>\n",
       "      <td>0</td>\n",
       "      <td>0</td>\n",
       "    </tr>\n",
       "    <tr>\n",
       "      <th>3</th>\n",
       "      <td>0</td>\n",
       "      <td>1</td>\n",
       "      <td>10</td>\n",
       "      <td>A</td>\n",
       "      <td>12</td>\n",
       "      <td>14.0</td>\n",
       "      <td>16.0</td>\n",
       "      <td>1057</td>\n",
       "      <td>1</td>\n",
       "      <td>0</td>\n",
       "      <td>0</td>\n",
       "    </tr>\n",
       "    <tr>\n",
       "      <th>4</th>\n",
       "      <td>1</td>\n",
       "      <td>2</td>\n",
       "      <td>16</td>\n",
       "      <td>C</td>\n",
       "      <td>8</td>\n",
       "      <td>8.0</td>\n",
       "      <td>16.0</td>\n",
       "      <td>7969</td>\n",
       "      <td>0</td>\n",
       "      <td>0</td>\n",
       "      <td>1</td>\n",
       "    </tr>\n",
       "  </tbody>\n",
       "</table>\n",
       "</div>"
      ],
      "text/plain": [
       "   Gender  Age  Occupation City_Category  Product_Category_1  \\\n",
       "0       0    1          10             A                   3   \n",
       "1       0    1          10             A                   1   \n",
       "2       0    1          10             A                  12   \n",
       "3       0    1          10             A                  12   \n",
       "4       1    2          16             C                   8   \n",
       "\n",
       "   Product_Category_2  Product_Category_3  Purchase  City_Category_A  \\\n",
       "0                 8.0                16.0      8370                1   \n",
       "1                 6.0                14.0     15200                1   \n",
       "2                 8.0                16.0      1422                1   \n",
       "3                14.0                16.0      1057                1   \n",
       "4                 8.0                16.0      7969                0   \n",
       "\n",
       "   City_Category_B  City_Category_C  \n",
       "0                0                0  \n",
       "1                0                0  \n",
       "2                0                0  \n",
       "3                0                0  \n",
       "4                0                1  "
      ]
     },
     "execution_count": 36,
     "metadata": {},
     "output_type": "execute_result"
    }
   ],
   "source": [
    "df.head()"
   ]
  },
  {
   "cell_type": "code",
   "execution_count": 37,
   "id": "7bbf0a0b-81f0-414f-8f1c-25c124c70be2",
   "metadata": {},
   "outputs": [
    {
     "data": {
      "text/html": [
       "<div>\n",
       "<style scoped>\n",
       "    .dataframe tbody tr th:only-of-type {\n",
       "        vertical-align: middle;\n",
       "    }\n",
       "\n",
       "    .dataframe tbody tr th {\n",
       "        vertical-align: top;\n",
       "    }\n",
       "\n",
       "    .dataframe thead th {\n",
       "        text-align: right;\n",
       "    }\n",
       "</style>\n",
       "<table border=\"1\" class=\"dataframe\">\n",
       "  <thead>\n",
       "    <tr style=\"text-align: right;\">\n",
       "      <th></th>\n",
       "      <th>Gender</th>\n",
       "      <th>Age</th>\n",
       "      <th>Occupation</th>\n",
       "      <th>Product_Category_1</th>\n",
       "      <th>Product_Category_2</th>\n",
       "      <th>Product_Category_3</th>\n",
       "      <th>Purchase</th>\n",
       "      <th>City_Category_A</th>\n",
       "      <th>City_Category_B</th>\n",
       "      <th>City_Category_C</th>\n",
       "    </tr>\n",
       "  </thead>\n",
       "  <tbody>\n",
       "    <tr>\n",
       "      <th>0</th>\n",
       "      <td>0</td>\n",
       "      <td>1</td>\n",
       "      <td>10</td>\n",
       "      <td>3</td>\n",
       "      <td>8.0</td>\n",
       "      <td>16.0</td>\n",
       "      <td>8370</td>\n",
       "      <td>1</td>\n",
       "      <td>0</td>\n",
       "      <td>0</td>\n",
       "    </tr>\n",
       "    <tr>\n",
       "      <th>1</th>\n",
       "      <td>0</td>\n",
       "      <td>1</td>\n",
       "      <td>10</td>\n",
       "      <td>1</td>\n",
       "      <td>6.0</td>\n",
       "      <td>14.0</td>\n",
       "      <td>15200</td>\n",
       "      <td>1</td>\n",
       "      <td>0</td>\n",
       "      <td>0</td>\n",
       "    </tr>\n",
       "    <tr>\n",
       "      <th>2</th>\n",
       "      <td>0</td>\n",
       "      <td>1</td>\n",
       "      <td>10</td>\n",
       "      <td>12</td>\n",
       "      <td>8.0</td>\n",
       "      <td>16.0</td>\n",
       "      <td>1422</td>\n",
       "      <td>1</td>\n",
       "      <td>0</td>\n",
       "      <td>0</td>\n",
       "    </tr>\n",
       "    <tr>\n",
       "      <th>3</th>\n",
       "      <td>0</td>\n",
       "      <td>1</td>\n",
       "      <td>10</td>\n",
       "      <td>12</td>\n",
       "      <td>14.0</td>\n",
       "      <td>16.0</td>\n",
       "      <td>1057</td>\n",
       "      <td>1</td>\n",
       "      <td>0</td>\n",
       "      <td>0</td>\n",
       "    </tr>\n",
       "    <tr>\n",
       "      <th>4</th>\n",
       "      <td>1</td>\n",
       "      <td>2</td>\n",
       "      <td>16</td>\n",
       "      <td>8</td>\n",
       "      <td>8.0</td>\n",
       "      <td>16.0</td>\n",
       "      <td>7969</td>\n",
       "      <td>0</td>\n",
       "      <td>0</td>\n",
       "      <td>1</td>\n",
       "    </tr>\n",
       "  </tbody>\n",
       "</table>\n",
       "</div>"
      ],
      "text/plain": [
       "   Gender  Age  Occupation  Product_Category_1  Product_Category_2  \\\n",
       "0       0    1          10                   3                 8.0   \n",
       "1       0    1          10                   1                 6.0   \n",
       "2       0    1          10                  12                 8.0   \n",
       "3       0    1          10                  12                14.0   \n",
       "4       1    2          16                   8                 8.0   \n",
       "\n",
       "   Product_Category_3  Purchase  City_Category_A  City_Category_B  \\\n",
       "0                16.0      8370                1                0   \n",
       "1                14.0     15200                1                0   \n",
       "2                16.0      1422                1                0   \n",
       "3                16.0      1057                1                0   \n",
       "4                16.0      7969                0                0   \n",
       "\n",
       "   City_Category_C  \n",
       "0                0  \n",
       "1                0  \n",
       "2                0  \n",
       "3                0  \n",
       "4                1  "
      ]
     },
     "execution_count": 37,
     "metadata": {},
     "output_type": "execute_result"
    }
   ],
   "source": [
    "df.drop('City_Category', axis=1, inplace=True)\n",
    "df.head()"
   ]
  },
  {
   "cell_type": "code",
   "execution_count": 38,
   "id": "32b4e94e-f1fc-415c-b3d4-cac6f7fdfe3e",
   "metadata": {},
   "outputs": [
    {
     "data": {
      "text/plain": [
       "Gender                  int64\n",
       "Age                     int64\n",
       "Occupation              int64\n",
       "Product_Category_1      int64\n",
       "Product_Category_2    float64\n",
       "Product_Category_3    float64\n",
       "Purchase                int64\n",
       "City_Category_A         uint8\n",
       "City_Category_B         uint8\n",
       "City_Category_C         uint8\n",
       "dtype: object"
      ]
     },
     "execution_count": 38,
     "metadata": {},
     "output_type": "execute_result"
    }
   ],
   "source": [
    "df.dtypes"
   ]
  },
  {
   "cell_type": "code",
   "execution_count": 40,
   "id": "b8024f66-a505-46d5-9bca-6a86623e4913",
   "metadata": {},
   "outputs": [
    {
     "data": {
      "text/html": [
       "<div>\n",
       "<style scoped>\n",
       "    .dataframe tbody tr th:only-of-type {\n",
       "        vertical-align: middle;\n",
       "    }\n",
       "\n",
       "    .dataframe tbody tr th {\n",
       "        vertical-align: top;\n",
       "    }\n",
       "\n",
       "    .dataframe thead th {\n",
       "        text-align: right;\n",
       "    }\n",
       "</style>\n",
       "<table border=\"1\" class=\"dataframe\">\n",
       "  <thead>\n",
       "    <tr style=\"text-align: right;\">\n",
       "      <th></th>\n",
       "      <th>count</th>\n",
       "      <th>mean</th>\n",
       "      <th>std</th>\n",
       "      <th>min</th>\n",
       "      <th>25%</th>\n",
       "      <th>50%</th>\n",
       "      <th>75%</th>\n",
       "      <th>max</th>\n",
       "    </tr>\n",
       "  </thead>\n",
       "  <tbody>\n",
       "    <tr>\n",
       "      <th>Gender</th>\n",
       "      <td>550068.0</td>\n",
       "      <td>0.753105</td>\n",
       "      <td>0.431205</td>\n",
       "      <td>0.0</td>\n",
       "      <td>1.0</td>\n",
       "      <td>1.0</td>\n",
       "      <td>1.0</td>\n",
       "      <td>1.0</td>\n",
       "    </tr>\n",
       "    <tr>\n",
       "      <th>Age</th>\n",
       "      <td>550068.0</td>\n",
       "      <td>5.548230</td>\n",
       "      <td>1.628010</td>\n",
       "      <td>1.0</td>\n",
       "      <td>5.0</td>\n",
       "      <td>6.0</td>\n",
       "      <td>7.0</td>\n",
       "      <td>7.0</td>\n",
       "    </tr>\n",
       "    <tr>\n",
       "      <th>Occupation</th>\n",
       "      <td>550068.0</td>\n",
       "      <td>8.076707</td>\n",
       "      <td>6.522660</td>\n",
       "      <td>0.0</td>\n",
       "      <td>2.0</td>\n",
       "      <td>7.0</td>\n",
       "      <td>14.0</td>\n",
       "      <td>20.0</td>\n",
       "    </tr>\n",
       "    <tr>\n",
       "      <th>Product_Category_1</th>\n",
       "      <td>550068.0</td>\n",
       "      <td>5.404270</td>\n",
       "      <td>3.936211</td>\n",
       "      <td>1.0</td>\n",
       "      <td>1.0</td>\n",
       "      <td>5.0</td>\n",
       "      <td>8.0</td>\n",
       "      <td>20.0</td>\n",
       "    </tr>\n",
       "    <tr>\n",
       "      <th>Product_Category_2</th>\n",
       "      <td>550068.0</td>\n",
       "      <td>9.260768</td>\n",
       "      <td>4.294093</td>\n",
       "      <td>2.0</td>\n",
       "      <td>8.0</td>\n",
       "      <td>8.0</td>\n",
       "      <td>14.0</td>\n",
       "      <td>18.0</td>\n",
       "    </tr>\n",
       "    <tr>\n",
       "      <th>Product_Category_3</th>\n",
       "      <td>550068.0</td>\n",
       "      <td>14.989567</td>\n",
       "      <td>2.739846</td>\n",
       "      <td>3.0</td>\n",
       "      <td>16.0</td>\n",
       "      <td>16.0</td>\n",
       "      <td>16.0</td>\n",
       "      <td>18.0</td>\n",
       "    </tr>\n",
       "    <tr>\n",
       "      <th>Purchase</th>\n",
       "      <td>550068.0</td>\n",
       "      <td>9263.968713</td>\n",
       "      <td>5023.065394</td>\n",
       "      <td>12.0</td>\n",
       "      <td>5823.0</td>\n",
       "      <td>8047.0</td>\n",
       "      <td>12054.0</td>\n",
       "      <td>23961.0</td>\n",
       "    </tr>\n",
       "    <tr>\n",
       "      <th>City_Category_A</th>\n",
       "      <td>550068.0</td>\n",
       "      <td>0.268549</td>\n",
       "      <td>0.443205</td>\n",
       "      <td>0.0</td>\n",
       "      <td>0.0</td>\n",
       "      <td>0.0</td>\n",
       "      <td>1.0</td>\n",
       "      <td>1.0</td>\n",
       "    </tr>\n",
       "    <tr>\n",
       "      <th>City_Category_B</th>\n",
       "      <td>550068.0</td>\n",
       "      <td>0.420263</td>\n",
       "      <td>0.493601</td>\n",
       "      <td>0.0</td>\n",
       "      <td>0.0</td>\n",
       "      <td>0.0</td>\n",
       "      <td>1.0</td>\n",
       "      <td>1.0</td>\n",
       "    </tr>\n",
       "    <tr>\n",
       "      <th>City_Category_C</th>\n",
       "      <td>550068.0</td>\n",
       "      <td>0.311189</td>\n",
       "      <td>0.462980</td>\n",
       "      <td>0.0</td>\n",
       "      <td>0.0</td>\n",
       "      <td>0.0</td>\n",
       "      <td>1.0</td>\n",
       "      <td>1.0</td>\n",
       "    </tr>\n",
       "  </tbody>\n",
       "</table>\n",
       "</div>"
      ],
      "text/plain": [
       "                       count         mean          std   min     25%     50%  \\\n",
       "Gender              550068.0     0.753105     0.431205   0.0     1.0     1.0   \n",
       "Age                 550068.0     5.548230     1.628010   1.0     5.0     6.0   \n",
       "Occupation          550068.0     8.076707     6.522660   0.0     2.0     7.0   \n",
       "Product_Category_1  550068.0     5.404270     3.936211   1.0     1.0     5.0   \n",
       "Product_Category_2  550068.0     9.260768     4.294093   2.0     8.0     8.0   \n",
       "Product_Category_3  550068.0    14.989567     2.739846   3.0    16.0    16.0   \n",
       "Purchase            550068.0  9263.968713  5023.065394  12.0  5823.0  8047.0   \n",
       "City_Category_A     550068.0     0.268549     0.443205   0.0     0.0     0.0   \n",
       "City_Category_B     550068.0     0.420263     0.493601   0.0     0.0     0.0   \n",
       "City_Category_C     550068.0     0.311189     0.462980   0.0     0.0     0.0   \n",
       "\n",
       "                        75%      max  \n",
       "Gender                  1.0      1.0  \n",
       "Age                     7.0      7.0  \n",
       "Occupation             14.0     20.0  \n",
       "Product_Category_1      8.0     20.0  \n",
       "Product_Category_2     14.0     18.0  \n",
       "Product_Category_3     16.0     18.0  \n",
       "Purchase            12054.0  23961.0  \n",
       "City_Category_A         1.0      1.0  \n",
       "City_Category_B         1.0      1.0  \n",
       "City_Category_C         1.0      1.0  "
      ]
     },
     "execution_count": 40,
     "metadata": {},
     "output_type": "execute_result"
    }
   ],
   "source": [
    "df.describe().T"
   ]
  },
  {
   "cell_type": "markdown",
   "id": "97161452-9529-4d6e-85a0-de0690943a22",
   "metadata": {},
   "source": [
    "<div class=\"alert alert-info\">\n",
    "    <h4>Observations:</h4>\n",
    "    <ul>\n",
    "        <li>Above descriptive statistics shows that <b>Standard Deviation</b> and <b>Mean</b> varies significantly among features.</li>\n",
    "    </ul>\n",
    "</div>"
   ]
  },
  {
   "cell_type": "markdown",
   "id": "7487448d-ab22-4166-a072-448e7d98c1f2",
   "metadata": {},
   "source": [
    "### Standardization\n",
    "**StandardScaler()** will use to standardize features.\n",
    "#### Steps\n",
    "1. Separate **Independent features** and **dependent** feature.\n",
    "2. Apply StandardScaler"
   ]
  },
  {
   "cell_type": "code",
   "execution_count": 42,
   "id": "99e58ea5-a5c1-442c-8eca-f9f9639112ed",
   "metadata": {},
   "outputs": [],
   "source": [
    "X = df.drop('Purchase', axis=1)\n",
    "y = df['Purchase']"
   ]
  },
  {
   "cell_type": "code",
   "execution_count": 43,
   "id": "78f3ef1d-c57d-4fbf-a4d9-1df74e0cd3d5",
   "metadata": {},
   "outputs": [
    {
     "name": "stdout",
     "output_type": "stream",
     "text": [
      "X shape:  (550068, 9)\n",
      "y shape:  (550068,)\n"
     ]
    }
   ],
   "source": [
    "print('X shape: ', X.shape)\n",
    "print('y shape: ', y.shape)"
   ]
  },
  {
   "cell_type": "code",
   "execution_count": 44,
   "id": "e4dbaaee-4f6f-4227-950a-8ae5da2ce132",
   "metadata": {},
   "outputs": [],
   "source": [
    "scaler = StandardScaler()\n",
    "X= scaler.fit_transform(X)"
   ]
  },
  {
   "cell_type": "code",
   "execution_count": 46,
   "id": "5b9fcb9b-1ec8-4b83-92d9-f9f64c3ba2a3",
   "metadata": {},
   "outputs": [
    {
     "data": {
      "text/plain": [
       "array([[-1.74651251, -2.79373797,  0.29486356, ...,  1.65036982,\n",
       "        -0.85142167, -0.67214331],\n",
       "       [-1.74651251, -2.79373797,  0.29486356, ...,  1.65036982,\n",
       "        -0.85142167, -0.67214331],\n",
       "       [-1.74651251, -2.79373797,  0.29486356, ...,  1.65036982,\n",
       "        -0.85142167, -0.67214331],\n",
       "       ...,\n",
       "       [-1.74651251,  0.89174547,  1.06142262, ..., -0.6059248 ,\n",
       "         1.17450616, -0.67214331],\n",
       "       [-1.74651251, -2.17949073, -1.08494277, ..., -0.6059248 ,\n",
       "        -0.85142167,  1.48777797],\n",
       "       [-1.74651251, -0.95099625, -1.23825458, ..., -0.6059248 ,\n",
       "         1.17450616, -0.67214331]])"
      ]
     },
     "execution_count": 46,
     "metadata": {},
     "output_type": "execute_result"
    }
   ],
   "source": [
    "X"
   ]
  },
  {
   "cell_type": "code",
   "execution_count": null,
   "id": "50329bda-525e-42f9-8d95-b884acd04500",
   "metadata": {},
   "outputs": [],
   "source": []
  }
 ],
 "metadata": {
  "kernelspec": {
   "display_name": "Python 3 (ipykernel)",
   "language": "python",
   "name": "python3"
  },
  "language_info": {
   "codemirror_mode": {
    "name": "ipython",
    "version": 3
   },
   "file_extension": ".py",
   "mimetype": "text/x-python",
   "name": "python",
   "nbconvert_exporter": "python",
   "pygments_lexer": "ipython3",
   "version": "3.10.9"
  }
 },
 "nbformat": 4,
 "nbformat_minor": 5
}
