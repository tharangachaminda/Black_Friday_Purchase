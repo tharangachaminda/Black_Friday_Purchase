{
 "cells": [
  {
   "cell_type": "markdown",
   "id": "21dd8745-c4c6-4c99-9245-87a0a9975d8d",
   "metadata": {},
   "source": [
    "# Black Friday Purchase Forcasting"
   ]
  },
  {
   "cell_type": "code",
   "execution_count": null,
   "id": "5f7af0a4-d402-4be4-9125-9dc4260524d9",
   "metadata": {},
   "outputs": [],
   "source": []
  }
 ],
 "metadata": {
  "kernelspec": {
   "display_name": "Python 3 (ipykernel)",
   "language": "python",
   "name": "python3"
  },
  "language_info": {
   "codemirror_mode": {
    "name": "ipython",
    "version": 3
   },
   "file_extension": ".py",
   "mimetype": "text/x-python",
   "name": "python",
   "nbconvert_exporter": "python",
   "pygments_lexer": "ipython3",
   "version": "3.10.9"
  }
 },
 "nbformat": 4,
 "nbformat_minor": 5
}
